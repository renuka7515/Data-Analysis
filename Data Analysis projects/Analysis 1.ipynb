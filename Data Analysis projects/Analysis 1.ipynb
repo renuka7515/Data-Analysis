{
 "cells": [
  {
   "cell_type": "code",
   "execution_count": 1,
   "id": "7254bf51",
   "metadata": {},
   "outputs": [],
   "source": [
    "import pandas as pd\n",
    "import  numpy as np\n",
    "import matplotlib.pyplot as plt\n",
    "import seaborn as sns\n",
    "import scipy as s\n",
    "import scipy.stats as ss"
   ]
  },
  {
   "cell_type": "code",
   "execution_count": 2,
   "id": "8713f99e",
   "metadata": {},
   "outputs": [],
   "source": [
    "data=pd.read_csv(r\"C:\\Users\\India\\data analysis\\Statistics\\autos cleaned data.csv\")"
   ]
  },
  {
   "cell_type": "code",
   "execution_count": 3,
   "id": "0793ac2d",
   "metadata": {},
   "outputs": [],
   "source": [
    "df=data.copy()"
   ]
  },
  {
   "cell_type": "markdown",
   "id": "b90bf74e",
   "metadata": {},
   "source": [
    "### 1.Perform general Data analysis"
   ]
  },
  {
   "cell_type": "code",
   "execution_count": 4,
   "id": "b46c8fb1",
   "metadata": {},
   "outputs": [
    {
     "data": {
      "text/plain": [
       "(371528, 19)"
      ]
     },
     "execution_count": 4,
     "metadata": {},
     "output_type": "execute_result"
    }
   ],
   "source": [
    "df.shape"
   ]
  },
  {
   "cell_type": "code",
   "execution_count": 5,
   "id": "c9b20b7b",
   "metadata": {},
   "outputs": [
    {
     "data": {
      "text/plain": [
       "Index(['date_crawled', 'name', 'seller', 'offer_type', 'dollar_price',\n",
       "       'ab_test', 'vehicle_type', 'registration_year', 'gearbox', 'power_ps',\n",
       "       'model', 'kilometer', 'registration_month', 'fuel_type', 'brand',\n",
       "       'unrepaired_damage', 'ad_date_created', 'postal_code', 'last_seen'],\n",
       "      dtype='object')"
      ]
     },
     "execution_count": 5,
     "metadata": {},
     "output_type": "execute_result"
    }
   ],
   "source": [
    "df.columns"
   ]
  },
  {
   "cell_type": "code",
   "execution_count": 6,
   "id": "f525d3e3",
   "metadata": {},
   "outputs": [
    {
     "name": "stdout",
     "output_type": "stream",
     "text": [
      "<class 'pandas.core.frame.DataFrame'>\n",
      "RangeIndex: 371528 entries, 0 to 371527\n",
      "Data columns (total 19 columns):\n",
      " #   Column              Non-Null Count   Dtype \n",
      "---  ------              --------------   ----- \n",
      " 0   date_crawled        371528 non-null  object\n",
      " 1   name                371528 non-null  object\n",
      " 2   seller              371528 non-null  object\n",
      " 3   offer_type          371528 non-null  object\n",
      " 4   dollar_price        371528 non-null  int64 \n",
      " 5   ab_test             371528 non-null  object\n",
      " 6   vehicle_type        371528 non-null  object\n",
      " 7   registration_year   371528 non-null  int64 \n",
      " 8   gearbox             371528 non-null  object\n",
      " 9   power_ps            371528 non-null  int64 \n",
      " 10  model               371528 non-null  object\n",
      " 11  kilometer           371528 non-null  int64 \n",
      " 12  registration_month  371528 non-null  int64 \n",
      " 13  fuel_type           371528 non-null  object\n",
      " 14  brand               371528 non-null  object\n",
      " 15  unrepaired_damage   371528 non-null  object\n",
      " 16  ad_date_created     371528 non-null  object\n",
      " 17  postal_code         371528 non-null  int64 \n",
      " 18  last_seen           371528 non-null  object\n",
      "dtypes: int64(6), object(13)\n",
      "memory usage: 53.9+ MB\n"
     ]
    }
   ],
   "source": [
    "df.info()"
   ]
  },
  {
   "cell_type": "code",
   "execution_count": 7,
   "id": "ea3dd2cb",
   "metadata": {},
   "outputs": [
    {
     "data": {
      "text/html": [
       "<div>\n",
       "<style scoped>\n",
       "    .dataframe tbody tr th:only-of-type {\n",
       "        vertical-align: middle;\n",
       "    }\n",
       "\n",
       "    .dataframe tbody tr th {\n",
       "        vertical-align: top;\n",
       "    }\n",
       "\n",
       "    .dataframe thead th {\n",
       "        text-align: right;\n",
       "    }\n",
       "</style>\n",
       "<table border=\"1\" class=\"dataframe\">\n",
       "  <thead>\n",
       "    <tr style=\"text-align: right;\">\n",
       "      <th></th>\n",
       "      <th>date_crawled</th>\n",
       "      <th>name</th>\n",
       "      <th>seller</th>\n",
       "      <th>offer_type</th>\n",
       "      <th>dollar_price</th>\n",
       "      <th>ab_test</th>\n",
       "      <th>vehicle_type</th>\n",
       "      <th>registration_year</th>\n",
       "      <th>gearbox</th>\n",
       "      <th>power_ps</th>\n",
       "      <th>model</th>\n",
       "      <th>kilometer</th>\n",
       "      <th>registration_month</th>\n",
       "      <th>fuel_type</th>\n",
       "      <th>brand</th>\n",
       "      <th>unrepaired_damage</th>\n",
       "      <th>ad_date_created</th>\n",
       "      <th>postal_code</th>\n",
       "      <th>last_seen</th>\n",
       "    </tr>\n",
       "  </thead>\n",
       "  <tbody>\n",
       "    <tr>\n",
       "      <th>9241</th>\n",
       "      <td>2016-03-12</td>\n",
       "      <td>MONDEO_2_0TDCI_Leder_Beige_NAVI_Panorama</td>\n",
       "      <td>privat</td>\n",
       "      <td>Angebot</td>\n",
       "      <td>1700</td>\n",
       "      <td>test</td>\n",
       "      <td>limousine</td>\n",
       "      <td>2004</td>\n",
       "      <td>manuell</td>\n",
       "      <td>0</td>\n",
       "      <td>mondeo</td>\n",
       "      <td>150000</td>\n",
       "      <td>9</td>\n",
       "      <td>diesel</td>\n",
       "      <td>ford</td>\n",
       "      <td>not mentioned</td>\n",
       "      <td>2016-03-12</td>\n",
       "      <td>53520</td>\n",
       "      <td>2016-03-12</td>\n",
       "    </tr>\n",
       "    <tr>\n",
       "      <th>11894</th>\n",
       "      <td>2016-03-28</td>\n",
       "      <td>Tausche_T4_Caravelle_Eurovan_US_2.5l_Benzin_Au...</td>\n",
       "      <td>privat</td>\n",
       "      <td>Angebot</td>\n",
       "      <td>2600</td>\n",
       "      <td>test</td>\n",
       "      <td>bus</td>\n",
       "      <td>1996</td>\n",
       "      <td>automatik</td>\n",
       "      <td>110</td>\n",
       "      <td>transporter</td>\n",
       "      <td>150000</td>\n",
       "      <td>0</td>\n",
       "      <td>benzin</td>\n",
       "      <td>volkswagen</td>\n",
       "      <td>nein</td>\n",
       "      <td>2016-03-28</td>\n",
       "      <td>9235</td>\n",
       "      <td>2016-03-28</td>\n",
       "    </tr>\n",
       "    <tr>\n",
       "      <th>15088</th>\n",
       "      <td>2016-04-04</td>\n",
       "      <td>Hyundai_i30_TÜV._04.2018_/_11_2009_bj</td>\n",
       "      <td>privat</td>\n",
       "      <td>Angebot</td>\n",
       "      <td>4499</td>\n",
       "      <td>control</td>\n",
       "      <td>limousine</td>\n",
       "      <td>2009</td>\n",
       "      <td>manuell</td>\n",
       "      <td>109</td>\n",
       "      <td>i_reihe</td>\n",
       "      <td>125000</td>\n",
       "      <td>4</td>\n",
       "      <td>benzin</td>\n",
       "      <td>hyundai</td>\n",
       "      <td>nein</td>\n",
       "      <td>2016-04-04</td>\n",
       "      <td>45139</td>\n",
       "      <td>2016-04-06</td>\n",
       "    </tr>\n",
       "    <tr>\n",
       "      <th>22799</th>\n",
       "      <td>2016-03-09</td>\n",
       "      <td>BMW_318i_Facelift_M_Sport_19\"Alu_Xenon_SHZ_Alc...</td>\n",
       "      <td>privat</td>\n",
       "      <td>Angebot</td>\n",
       "      <td>6500</td>\n",
       "      <td>test</td>\n",
       "      <td>limousine</td>\n",
       "      <td>2004</td>\n",
       "      <td>manuell</td>\n",
       "      <td>143</td>\n",
       "      <td>3er</td>\n",
       "      <td>150000</td>\n",
       "      <td>2</td>\n",
       "      <td>benzin</td>\n",
       "      <td>bmw</td>\n",
       "      <td>nein</td>\n",
       "      <td>2016-03-09</td>\n",
       "      <td>66482</td>\n",
       "      <td>2016-04-05</td>\n",
       "    </tr>\n",
       "    <tr>\n",
       "      <th>23878</th>\n",
       "      <td>2016-04-05</td>\n",
       "      <td>Opel_Corsa_B_mit_Servo_&amp;_Einparkhilfe_Hinten_T...</td>\n",
       "      <td>privat</td>\n",
       "      <td>Angebot</td>\n",
       "      <td>1050</td>\n",
       "      <td>control</td>\n",
       "      <td>kleinwagen</td>\n",
       "      <td>2000</td>\n",
       "      <td>manuell</td>\n",
       "      <td>65</td>\n",
       "      <td>corsa</td>\n",
       "      <td>150000</td>\n",
       "      <td>4</td>\n",
       "      <td>benzin</td>\n",
       "      <td>opel</td>\n",
       "      <td>nein</td>\n",
       "      <td>2016-04-05</td>\n",
       "      <td>42283</td>\n",
       "      <td>2016-04-05</td>\n",
       "    </tr>\n",
       "    <tr>\n",
       "      <th>...</th>\n",
       "      <td>...</td>\n",
       "      <td>...</td>\n",
       "      <td>...</td>\n",
       "      <td>...</td>\n",
       "      <td>...</td>\n",
       "      <td>...</td>\n",
       "      <td>...</td>\n",
       "      <td>...</td>\n",
       "      <td>...</td>\n",
       "      <td>...</td>\n",
       "      <td>...</td>\n",
       "      <td>...</td>\n",
       "      <td>...</td>\n",
       "      <td>...</td>\n",
       "      <td>...</td>\n",
       "      <td>...</td>\n",
       "      <td>...</td>\n",
       "      <td>...</td>\n",
       "      <td>...</td>\n",
       "    </tr>\n",
       "    <tr>\n",
       "      <th>371144</th>\n",
       "      <td>2016-03-14</td>\n",
       "      <td>VW_Polo_6N1_60_PS_Teiletraeger</td>\n",
       "      <td>privat</td>\n",
       "      <td>Angebot</td>\n",
       "      <td>210</td>\n",
       "      <td>test</td>\n",
       "      <td>kleinwagen</td>\n",
       "      <td>1997</td>\n",
       "      <td>manuell</td>\n",
       "      <td>60</td>\n",
       "      <td>polo</td>\n",
       "      <td>150000</td>\n",
       "      <td>0</td>\n",
       "      <td>not mentioned</td>\n",
       "      <td>volkswagen</td>\n",
       "      <td>not mentioned</td>\n",
       "      <td>2016-03-14</td>\n",
       "      <td>37589</td>\n",
       "      <td>2016-04-06</td>\n",
       "    </tr>\n",
       "    <tr>\n",
       "      <th>371290</th>\n",
       "      <td>2016-04-02</td>\n",
       "      <td>Mercedes_Viano_2_2_cdi_Trend_Kompakt</td>\n",
       "      <td>privat</td>\n",
       "      <td>Angebot</td>\n",
       "      <td>11500</td>\n",
       "      <td>control</td>\n",
       "      <td>bus</td>\n",
       "      <td>2006</td>\n",
       "      <td>manuell</td>\n",
       "      <td>150</td>\n",
       "      <td>viano</td>\n",
       "      <td>150000</td>\n",
       "      <td>4</td>\n",
       "      <td>diesel</td>\n",
       "      <td>mercedes_benz</td>\n",
       "      <td>nein</td>\n",
       "      <td>2016-04-02</td>\n",
       "      <td>25421</td>\n",
       "      <td>2016-04-06</td>\n",
       "    </tr>\n",
       "    <tr>\n",
       "      <th>371350</th>\n",
       "      <td>2016-03-16</td>\n",
       "      <td>Smart_FORFOUR_BRABUS___HÖCHSTE_AUSTATTUNG</td>\n",
       "      <td>privat</td>\n",
       "      <td>Angebot</td>\n",
       "      <td>6700</td>\n",
       "      <td>test</td>\n",
       "      <td>kleinwagen</td>\n",
       "      <td>2005</td>\n",
       "      <td>manuell</td>\n",
       "      <td>177</td>\n",
       "      <td>forfour</td>\n",
       "      <td>125000</td>\n",
       "      <td>6</td>\n",
       "      <td>benzin</td>\n",
       "      <td>smart</td>\n",
       "      <td>nein</td>\n",
       "      <td>2016-03-16</td>\n",
       "      <td>14513</td>\n",
       "      <td>2016-04-06</td>\n",
       "    </tr>\n",
       "    <tr>\n",
       "      <th>371428</th>\n",
       "      <td>2016-03-12</td>\n",
       "      <td>Audi_A_4_Automatik_Kombi_Mod_2007_Tuev_Au_neu_...</td>\n",
       "      <td>privat</td>\n",
       "      <td>Angebot</td>\n",
       "      <td>7399</td>\n",
       "      <td>test</td>\n",
       "      <td>kombi</td>\n",
       "      <td>2006</td>\n",
       "      <td>automatik</td>\n",
       "      <td>96</td>\n",
       "      <td>a4</td>\n",
       "      <td>125000</td>\n",
       "      <td>12</td>\n",
       "      <td>benzin</td>\n",
       "      <td>audi</td>\n",
       "      <td>nein</td>\n",
       "      <td>2016-03-12</td>\n",
       "      <td>45699</td>\n",
       "      <td>2016-03-29</td>\n",
       "    </tr>\n",
       "    <tr>\n",
       "      <th>371455</th>\n",
       "      <td>2016-03-26</td>\n",
       "      <td>Volkswagen_Golf_VI_1.4__Klima_AHK__8_fach_bereift</td>\n",
       "      <td>privat</td>\n",
       "      <td>Angebot</td>\n",
       "      <td>8940</td>\n",
       "      <td>control</td>\n",
       "      <td>limousine</td>\n",
       "      <td>2009</td>\n",
       "      <td>manuell</td>\n",
       "      <td>80</td>\n",
       "      <td>golf</td>\n",
       "      <td>60000</td>\n",
       "      <td>8</td>\n",
       "      <td>benzin</td>\n",
       "      <td>volkswagen</td>\n",
       "      <td>nein</td>\n",
       "      <td>2016-03-26</td>\n",
       "      <td>27299</td>\n",
       "      <td>2016-04-06</td>\n",
       "    </tr>\n",
       "  </tbody>\n",
       "</table>\n",
       "<p>1448 rows × 19 columns</p>\n",
       "</div>"
      ],
      "text/plain": [
       "       date_crawled                                               name  \\\n",
       "9241     2016-03-12           MONDEO_2_0TDCI_Leder_Beige_NAVI_Panorama   \n",
       "11894    2016-03-28  Tausche_T4_Caravelle_Eurovan_US_2.5l_Benzin_Au...   \n",
       "15088    2016-04-04              Hyundai_i30_TÜV._04.2018_/_11_2009_bj   \n",
       "22799    2016-03-09  BMW_318i_Facelift_M_Sport_19\"Alu_Xenon_SHZ_Alc...   \n",
       "23878    2016-04-05  Opel_Corsa_B_mit_Servo_&_Einparkhilfe_Hinten_T...   \n",
       "...             ...                                                ...   \n",
       "371144   2016-03-14                     VW_Polo_6N1_60_PS_Teiletraeger   \n",
       "371290   2016-04-02               Mercedes_Viano_2_2_cdi_Trend_Kompakt   \n",
       "371350   2016-03-16          Smart_FORFOUR_BRABUS___HÖCHSTE_AUSTATTUNG   \n",
       "371428   2016-03-12  Audi_A_4_Automatik_Kombi_Mod_2007_Tuev_Au_neu_...   \n",
       "371455   2016-03-26  Volkswagen_Golf_VI_1.4__Klima_AHK__8_fach_bereift   \n",
       "\n",
       "        seller offer_type  dollar_price  ab_test vehicle_type  \\\n",
       "9241    privat    Angebot          1700     test    limousine   \n",
       "11894   privat    Angebot          2600     test          bus   \n",
       "15088   privat    Angebot          4499  control    limousine   \n",
       "22799   privat    Angebot          6500     test    limousine   \n",
       "23878   privat    Angebot          1050  control   kleinwagen   \n",
       "...        ...        ...           ...      ...          ...   \n",
       "371144  privat    Angebot           210     test   kleinwagen   \n",
       "371290  privat    Angebot         11500  control          bus   \n",
       "371350  privat    Angebot          6700     test   kleinwagen   \n",
       "371428  privat    Angebot          7399     test        kombi   \n",
       "371455  privat    Angebot          8940  control    limousine   \n",
       "\n",
       "        registration_year    gearbox  power_ps        model  kilometer  \\\n",
       "9241                 2004    manuell         0       mondeo     150000   \n",
       "11894                1996  automatik       110  transporter     150000   \n",
       "15088                2009    manuell       109      i_reihe     125000   \n",
       "22799                2004    manuell       143          3er     150000   \n",
       "23878                2000    manuell        65        corsa     150000   \n",
       "...                   ...        ...       ...          ...        ...   \n",
       "371144               1997    manuell        60         polo     150000   \n",
       "371290               2006    manuell       150        viano     150000   \n",
       "371350               2005    manuell       177      forfour     125000   \n",
       "371428               2006  automatik        96           a4     125000   \n",
       "371455               2009    manuell        80         golf      60000   \n",
       "\n",
       "        registration_month      fuel_type          brand unrepaired_damage  \\\n",
       "9241                     9         diesel           ford     not mentioned   \n",
       "11894                    0         benzin     volkswagen              nein   \n",
       "15088                    4         benzin        hyundai              nein   \n",
       "22799                    2         benzin            bmw              nein   \n",
       "23878                    4         benzin           opel              nein   \n",
       "...                    ...            ...            ...               ...   \n",
       "371144                   0  not mentioned     volkswagen     not mentioned   \n",
       "371290                   4         diesel  mercedes_benz              nein   \n",
       "371350                   6         benzin          smart              nein   \n",
       "371428                  12         benzin           audi              nein   \n",
       "371455                   8         benzin     volkswagen              nein   \n",
       "\n",
       "       ad_date_created  postal_code   last_seen  \n",
       "9241        2016-03-12        53520  2016-03-12  \n",
       "11894       2016-03-28         9235  2016-03-28  \n",
       "15088       2016-04-04        45139  2016-04-06  \n",
       "22799       2016-03-09        66482  2016-04-05  \n",
       "23878       2016-04-05        42283  2016-04-05  \n",
       "...                ...          ...         ...  \n",
       "371144      2016-03-14        37589  2016-04-06  \n",
       "371290      2016-04-02        25421  2016-04-06  \n",
       "371350      2016-03-16        14513  2016-04-06  \n",
       "371428      2016-03-12        45699  2016-03-29  \n",
       "371455      2016-03-26        27299  2016-04-06  \n",
       "\n",
       "[1448 rows x 19 columns]"
      ]
     },
     "execution_count": 7,
     "metadata": {},
     "output_type": "execute_result"
    }
   ],
   "source": [
    "df[df.duplicated()]"
   ]
  },
  {
   "cell_type": "code",
   "execution_count": 8,
   "id": "5b445b1b",
   "metadata": {
    "scrolled": true
   },
   "outputs": [
    {
     "data": {
      "text/plain": [
       "date_crawled          0\n",
       "name                  0\n",
       "seller                0\n",
       "offer_type            0\n",
       "dollar_price          0\n",
       "ab_test               0\n",
       "vehicle_type          0\n",
       "registration_year     0\n",
       "gearbox               0\n",
       "power_ps              0\n",
       "model                 0\n",
       "kilometer             0\n",
       "registration_month    0\n",
       "fuel_type             0\n",
       "brand                 0\n",
       "unrepaired_damage     0\n",
       "ad_date_created       0\n",
       "postal_code           0\n",
       "last_seen             0\n",
       "dtype: int64"
      ]
     },
     "execution_count": 8,
     "metadata": {},
     "output_type": "execute_result"
    }
   ],
   "source": [
    "df.isnull().sum()"
   ]
  },
  {
   "cell_type": "code",
   "execution_count": 9,
   "id": "e0ac672c",
   "metadata": {},
   "outputs": [],
   "source": [
    "df.drop_duplicates(inplace=True)"
   ]
  },
  {
   "cell_type": "code",
   "execution_count": 10,
   "id": "8d29f1f5",
   "metadata": {},
   "outputs": [
    {
     "data": {
      "text/html": [
       "<div>\n",
       "<style scoped>\n",
       "    .dataframe tbody tr th:only-of-type {\n",
       "        vertical-align: middle;\n",
       "    }\n",
       "\n",
       "    .dataframe tbody tr th {\n",
       "        vertical-align: top;\n",
       "    }\n",
       "\n",
       "    .dataframe thead th {\n",
       "        text-align: right;\n",
       "    }\n",
       "</style>\n",
       "<table border=\"1\" class=\"dataframe\">\n",
       "  <thead>\n",
       "    <tr style=\"text-align: right;\">\n",
       "      <th></th>\n",
       "      <th>dollar_price</th>\n",
       "      <th>registration_year</th>\n",
       "      <th>power_ps</th>\n",
       "      <th>kilometer</th>\n",
       "      <th>registration_month</th>\n",
       "      <th>postal_code</th>\n",
       "    </tr>\n",
       "  </thead>\n",
       "  <tbody>\n",
       "    <tr>\n",
       "      <th>count</th>\n",
       "      <td>3.700800e+05</td>\n",
       "      <td>370080.000000</td>\n",
       "      <td>370080.000000</td>\n",
       "      <td>370080.000000</td>\n",
       "      <td>370080.000000</td>\n",
       "      <td>370080.000000</td>\n",
       "    </tr>\n",
       "    <tr>\n",
       "      <th>mean</th>\n",
       "      <td>1.733976e+04</td>\n",
       "      <td>2004.579834</td>\n",
       "      <td>115.555526</td>\n",
       "      <td>125634.146671</td>\n",
       "      <td>5.732636</td>\n",
       "      <td>50836.844204</td>\n",
       "    </tr>\n",
       "    <tr>\n",
       "      <th>std</th>\n",
       "      <td>3.594966e+06</td>\n",
       "      <td>93.046993</td>\n",
       "      <td>192.460903</td>\n",
       "      <td>40107.698550</td>\n",
       "      <td>3.712073</td>\n",
       "      <td>25796.022841</td>\n",
       "    </tr>\n",
       "    <tr>\n",
       "      <th>min</th>\n",
       "      <td>0.000000e+00</td>\n",
       "      <td>1000.000000</td>\n",
       "      <td>0.000000</td>\n",
       "      <td>5000.000000</td>\n",
       "      <td>0.000000</td>\n",
       "      <td>1067.000000</td>\n",
       "    </tr>\n",
       "    <tr>\n",
       "      <th>25%</th>\n",
       "      <td>1.150000e+03</td>\n",
       "      <td>1999.000000</td>\n",
       "      <td>70.000000</td>\n",
       "      <td>125000.000000</td>\n",
       "      <td>3.000000</td>\n",
       "      <td>30519.000000</td>\n",
       "    </tr>\n",
       "    <tr>\n",
       "      <th>50%</th>\n",
       "      <td>2.950000e+03</td>\n",
       "      <td>2003.000000</td>\n",
       "      <td>105.000000</td>\n",
       "      <td>150000.000000</td>\n",
       "      <td>6.000000</td>\n",
       "      <td>49624.000000</td>\n",
       "    </tr>\n",
       "    <tr>\n",
       "      <th>75%</th>\n",
       "      <td>7.200000e+03</td>\n",
       "      <td>2008.000000</td>\n",
       "      <td>150.000000</td>\n",
       "      <td>150000.000000</td>\n",
       "      <td>9.000000</td>\n",
       "      <td>71566.000000</td>\n",
       "    </tr>\n",
       "    <tr>\n",
       "      <th>max</th>\n",
       "      <td>2.147484e+09</td>\n",
       "      <td>9999.000000</td>\n",
       "      <td>20000.000000</td>\n",
       "      <td>150000.000000</td>\n",
       "      <td>12.000000</td>\n",
       "      <td>99998.000000</td>\n",
       "    </tr>\n",
       "  </tbody>\n",
       "</table>\n",
       "</div>"
      ],
      "text/plain": [
       "       dollar_price  registration_year       power_ps      kilometer  \\\n",
       "count  3.700800e+05      370080.000000  370080.000000  370080.000000   \n",
       "mean   1.733976e+04        2004.579834     115.555526  125634.146671   \n",
       "std    3.594966e+06          93.046993     192.460903   40107.698550   \n",
       "min    0.000000e+00        1000.000000       0.000000    5000.000000   \n",
       "25%    1.150000e+03        1999.000000      70.000000  125000.000000   \n",
       "50%    2.950000e+03        2003.000000     105.000000  150000.000000   \n",
       "75%    7.200000e+03        2008.000000     150.000000  150000.000000   \n",
       "max    2.147484e+09        9999.000000   20000.000000  150000.000000   \n",
       "\n",
       "       registration_month    postal_code  \n",
       "count       370080.000000  370080.000000  \n",
       "mean             5.732636   50836.844204  \n",
       "std              3.712073   25796.022841  \n",
       "min              0.000000    1067.000000  \n",
       "25%              3.000000   30519.000000  \n",
       "50%              6.000000   49624.000000  \n",
       "75%              9.000000   71566.000000  \n",
       "max             12.000000   99998.000000  "
      ]
     },
     "execution_count": 10,
     "metadata": {},
     "output_type": "execute_result"
    }
   ],
   "source": [
    "df.describe()"
   ]
  },
  {
   "cell_type": "markdown",
   "id": "9df79513",
   "metadata": {},
   "source": [
    "### 2.Can you tell me the Distribution of Vehicles based on Year of Registration with the help of a plot"
   ]
  },
  {
   "cell_type": "code",
   "execution_count": 19,
   "id": "64f40176",
   "metadata": {},
   "outputs": [
    {
     "data": {
      "image/png": "[encoded data removed]",
      "text/plain": [
       "<Figure size 504x360 with 1 Axes>"
      ]
     },
     "metadata": {
      "needs_background": "light"
     },
     "output_type": "display_data"
    }
   ],
   "source": [
    "plt.figure(figsize=(7,5))\n",
    "sns.histplot(data=df, x='registration_year', bins=20, kde=True, color='skyblue')\n",
    "plt.xlabel('Year of Registration')\n",
    "plt.ylabel('Number of Vehicles')\n",
    "plt.title('Distribution of Vehicles Based on Year of Registration')\n",
    "plt.tight_layout()\n",
    "plt.show()\n"
   ]
  },
  {
   "cell_type": "markdown",
   "id": "41aff26f",
   "metadata": {},
   "source": [
    "### 3.Create a plot based on the Variation of the price range by the vehicle type"
   ]
  },
  {
   "cell_type": "code",
   "execution_count": 22,
   "id": "1740fe95",
   "metadata": {},
   "outputs": [
    {
     "data": {
      "image/png": "[encoded data removed]",
      "text/plain": [
       "<Figure size 504x432 with 1 Axes>"
      ]
     },
     "metadata": {
      "needs_background": "light"
     },
     "output_type": "display_data"
    }
   ],
   "source": [
    "plt.figure(figsize=(7,6))  \n",
    "plt.xticks(rotation=45)\n",
    "plt.title(\"Variation of Price Range by Vehicle Type\")\n",
    "\n",
    "sns.barplot(x='vehicle_type', y='dollar_price', data=data)\n",
    "plt.show()"
   ]
  },
  {
   "cell_type": "markdown",
   "id": "e32d834a",
   "metadata": {},
   "source": [
    "### 4. Find out Total count of vehicles by type available on ebay for sale.As well as create a visualization for the client\n"
   ]
  },
  {
   "cell_type": "code",
   "execution_count": 25,
   "id": "4647167b",
   "metadata": {},
   "outputs": [
    {
     "data": {
      "image/png": "[encoded data removed]",
      "text/plain": [
       "<Figure size 504x432 with 1 Axes>"
      ]
     },
     "metadata": {
      "needs_background": "light"
     },
     "output_type": "display_data"
    }
   ],
   "source": [
    "plt.figure(figsize=(7,6))  \n",
    "plt.xticks(rotation=45)\n",
    "plt.title(\"Total count of vehicles by type available on ebay sale\")\n",
    "\n",
    "sns.countplot(data=df,x=\"vehicle_type\")\n",
    "plt.show()"
   ]
  },
  {
   "cell_type": "code",
   "execution_count": 27,
   "id": "6126b254",
   "metadata": {},
   "outputs": [
    {
     "data": {
      "text/plain": [
       "limousine     95509\n",
       "kleinwagen    79708\n",
       "kombi         67264\n",
       "unknown       37772\n",
       "bus           30090\n",
       "cabrio        22829\n",
       "coupe         18954\n",
       "suv           14604\n",
       "andere         3350\n",
       "Name: vehicle_type, dtype: int64"
      ]
     },
     "execution_count": 27,
     "metadata": {},
     "output_type": "execute_result"
    }
   ],
   "source": [
    "df[\"vehicle_type\"].value_counts()"
   ]
  },
  {
   "cell_type": "markdown",
   "id": "2c51b94b",
   "metadata": {},
   "source": [
    "### 5.Is there any relationship between dollar_price and kilometer? (Explain with appropriate analysis)\n"
   ]
  },
  {
   "cell_type": "code",
   "execution_count": 45,
   "id": "21dbcabb",
   "metadata": {},
   "outputs": [
    {
     "data": {
      "text/plain": [
       "<AxesSubplot:>"
      ]
     },
     "execution_count": 45,
     "metadata": {},
     "output_type": "execute_result"
    },
    {
     "data": {
      "image/png": "[encoded data removed]",
      "text/plain": [
       "<Figure size 648x432 with 2 Axes>"
      ]
     },
     "metadata": {
      "needs_background": "light"
     },
     "output_type": "display_data"
    }
   ],
   "source": [
    "plt.figure(figsize=(9,6))\n",
    "sns.heatmap(data[[\"dollar_price\",\"kilometer\"]].corr(method=\"pearson\"),annot=True)"
   ]
  },
  {
   "cell_type": "code",
   "execution_count": null,
   "id": "e4c4b163",
   "metadata": {},
   "outputs": [],
   "source": []
  },
  {
   "cell_type": "code",
   "execution_count": null,
   "id": "9c08948b",
   "metadata": {},
   "outputs": [],
   "source": []
  }
 ],
 "metadata": {
  "kernelspec": {
   "display_name": "Python 3 (ipykernel)",
   "language": "python",
   "name": "python3"
  },
  "language_info": {
   "codemirror_mode": {
    "name": "ipython",
    "version": 3
   },
   "file_extension": ".py",
   "mimetype": "text/x-python",
   "name": "python",
   "nbconvert_exporter": "python",
   "pygments_lexer": "ipython3",
   "version": "3.9.12"
  }
 },
 "nbformat": 4,
 "nbformat_minor": 5
}
